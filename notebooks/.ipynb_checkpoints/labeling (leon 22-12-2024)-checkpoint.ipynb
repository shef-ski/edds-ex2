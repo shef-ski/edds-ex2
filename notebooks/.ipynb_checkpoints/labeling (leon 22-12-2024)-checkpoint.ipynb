{
 "cells": [
  {
   "cell_type": "markdown",
   "id": "9b90faaa-1d36-4e00-aee4-3ae96a89aaea",
   "metadata": {},
   "source": [
    "**What has been done**\n",
    "\n",
    "Unfortunately, I didn't get as far as I wanted to because the sensitivity labeling turned out to be quite complicated.\n",
    "\n",
    "Downloaded the datasets and added relevant links. Make sure to put them in the data folder in the way they are referenced by the path strings in this notebook.\n",
    "\n",
    "The data is getting loaded and merged. \n",
    "\n",
    "Then, I obtained all terms from the C12 and C13 categories from an .xml by exploiting the tree structure (see get_keywords_from_xml() function). Then, for each row in the df, I check if one of the C12 or C13 terms appears. If so, the row gets labeled as sensitive (1), otherwise not sensitive (0).\n",
    "\n",
    "**What needs to be done**\n",
    "\n",
    "In general we have to verify two things in the whole project:\n",
    "1) Intrinsic Evaluation (next): Here, we need to train a Logistic Regression model and also use DistilBERT to try to predict sensitivity in the same way the authors did.\n",
    "2) Extrinsic Evaluation (later on): Here we have to combine also the relevance label with the sensitivity label. I do not quite understand how this works. I am fairly certain we have to use some of the files from the original data source (see link in README). I think the queries are needed."
   ]
  },
  {
   "cell_type": "markdown",
   "id": "aa0298a2-fe74-4f19-abcf-8dab6a48388a",
   "metadata": {},
   "source": [
    "# Imports"
   ]
  },
  {
   "cell_type": "code",
   "execution_count": 13,
   "id": "f336f398-7086-4a10-9ac2-1e9449ceb6e4",
   "metadata": {},
   "outputs": [],
   "source": [
    "# Python libraries\n",
    "import pandas as pd"
   ]
  },
  {
   "cell_type": "code",
   "execution_count": 14,
   "id": "30cec148-0f22-42d1-b97b-011d73f7fd80",
   "metadata": {},
   "outputs": [],
   "source": [
    "# Add src to the path so we can import our own functions from .py files\n",
    "import sys\n",
    "import os\n",
    "project_root = os.path.abspath(os.path.join(os.getcwd(), \"..\"))\n",
    "sys.path.insert(0, project_root)\n",
    "\n",
    "# Custom functions\n",
    "from src.data_processing.load import load_parquet_as_df\n",
    "from src.data_processing.xml import get_keywords_from_xml\n",
    "from src.data_processing.sensitivity_labeling import is_sensitive"
   ]
  },
  {
   "cell_type": "markdown",
   "id": "447f9039-ab41-44ef-8ae9-e3446bfac4d2",
   "metadata": {},
   "source": [
    "# Load data"
   ]
  },
  {
   "cell_type": "code",
   "execution_count": 32,
   "id": "743d061f-28b3-4eeb-86f0-cf3a88d06c5e",
   "metadata": {},
   "outputs": [],
   "source": [
    "test_path = \"../data/OHSUMED/test-00000-of-00001.parquet\"\n",
    "train_path = \"../data/OHSUMED/train-00000-of-00001.parquet\"\n",
    "\n",
    "df_test = load_parquet_as_df(test_path)\n",
    "df_train = load_parquet_as_df(train_path)\n",
    "\n",
    "df = pd.concat([df_test, df_train], axis=0)"
   ]
  },
  {
   "cell_type": "code",
   "execution_count": 33,
   "id": "3250ec09-7420-48db-9545-f73310b09792",
   "metadata": {},
   "outputs": [
    {
     "name": "stdout",
     "output_type": "stream",
     "text": [
      "348564\n"
     ]
    },
    {
     "data": {
      "text/plain": [
       "Index(['seq_id', 'medline_ui', 'mesh_terms', 'title', 'publication_type',\n",
       "       'abstract', 'author', 'source'],\n",
       "      dtype='object')"
      ]
     },
     "execution_count": 33,
     "metadata": {},
     "output_type": "execute_result"
    }
   ],
   "source": [
    "print(len(df))\n",
    "df.columns"
   ]
  },
  {
   "cell_type": "code",
   "execution_count": 39,
   "id": "b985d5e5-38e5-4656-8564-09de49cff3ce",
   "metadata": {},
   "outputs": [
    {
     "data": {
      "text/plain": [
       "92    Abortion, Habitual/*CO/PC; Adult; Case Report; Chromosome Abnormalities/*CO/GE; Female; Fibrinogen/*BL/TU; Human; Karyotyping; Pedigree; Pregnancy; Support, Non-U.S. Gov't; Support, U.S. Gov't, P.H.S.; Translocation (Genetics).\n",
       "92                                             Blood Pressure; Catheters, Indwelling/*ST; Hemodialysis/*ST; Human; Kidney Failure, Acute/*PP/TH; Kidney Failure, Chronic/*PP/TH; Polyurethanes; Quality Control; Support, Non-U.S. Gov't.\n",
       "Name: mesh_terms, dtype: object"
      ]
     },
     "execution_count": 39,
     "metadata": {},
     "output_type": "execute_result"
    }
   ],
   "source": [
    "# Set max column width to display long strings fully\n",
    "pd.set_option('display.max_colwidth', None)\n",
    "\n",
    "# Now, accessing the entry will show the full string\n",
    "df['mesh_terms'][92]"
   ]
  },
  {
   "cell_type": "markdown",
   "id": "17ff1fa8-e99e-4787-b623-46a796bfc34b",
   "metadata": {},
   "source": [
    "# Sensitivity labeling"
   ]
  },
  {
   "cell_type": "code",
   "execution_count": 34,
   "id": "284db4b5-4e7d-4dfa-aa4d-88485a9037ac",
   "metadata": {},
   "outputs": [],
   "source": [
    "MESH_XML_FILE = \"../data/nlm/mesh/medit/ascii_xml/output/desc2022.xml\"\n",
    "\n",
    "c12_terms, c13_terms = get_keywords_from_xml(MESH_XML_FILE)"
   ]
  },
  {
   "cell_type": "code",
   "execution_count": 35,
   "id": "6e63c4c0-ef84-48f8-9023-a24e40bbd845",
   "metadata": {},
   "outputs": [],
   "source": [
    "df['sensitive_label'] = df['mesh_terms'].apply(\n",
    "    lambda x: is_sensitive(x, c12_terms, c13_terms)\n",
    ")"
   ]
  },
  {
   "cell_type": "code",
   "execution_count": 16,
   "id": "66497638-6ad8-46d0-b2bb-939beac03738",
   "metadata": {},
   "outputs": [
    {
     "name": "stdout",
     "output_type": "stream",
     "text": [
      "7.72% of the rows are sensitive\n"
     ]
    }
   ],
   "source": [
    "percentage_sensitive = 100 * df['sensitive_label'].mean()\n",
    "print(f\"{percentage_sensitive:.2f}% of the rows are sensitive\")"
   ]
  },
  {
   "cell_type": "code",
   "execution_count": 43,
   "id": "7b92193b-941e-4595-82c7-5b2073f8bca0",
   "metadata": {},
   "outputs": [],
   "source": [
    "save_csv = False\n",
    "\n",
    "# Only save relevant columns to make file smaller\n",
    "relevant_columns = ['title', 'abstract', 'sensitive_label']\n",
    "df = df[relevant_columns]\n",
    "\n",
    "if save_csv:\n",
    "    save_path = \"../data/OHSUMED/full_ohsumed_sensitivity_labeled.csv\"\n",
    "    \n",
    "    \n",
    "    df.to_csv(save_path, index=False)"
   ]
  },
  {
   "cell_type": "markdown",
   "id": "8d024c1d-f92e-4c2e-a2c7-cd0ed7912913",
   "metadata": {},
   "source": [
    "# Misc\n",
    "\n",
    "Just some code for getting screenshots"
   ]
  },
  {
   "cell_type": "code",
   "execution_count": null,
   "id": "08d087f8-5a85-4d36-aba2-5728810b13d7",
   "metadata": {},
   "outputs": [],
   "source": [
    "# A list which contains indices of rows which have a 1 as label\n",
    "indices = df.index[df['sensitive_label'] == 1].tolist()\n",
    "\n",
    "indices[0:5]"
   ]
  },
  {
   "cell_type": "code",
   "execution_count": 47,
   "id": "9711d969-9009-43b2-9b49-4434cb2fb0b6",
   "metadata": {},
   "outputs": [],
   "source": [
    "rows = df.iloc[23:25]  "
   ]
  },
  {
   "cell_type": "code",
   "execution_count": 48,
   "id": "05532f62-fd75-40b4-8b3e-c398ee3e8c79",
   "metadata": {},
   "outputs": [
    {
     "data": {
      "text/html": [
       "<div>\n",
       "<style scoped>\n",
       "    .dataframe tbody tr th:only-of-type {\n",
       "        vertical-align: middle;\n",
       "    }\n",
       "\n",
       "    .dataframe tbody tr th {\n",
       "        vertical-align: top;\n",
       "    }\n",
       "\n",
       "    .dataframe thead th {\n",
       "        text-align: right;\n",
       "    }\n",
       "</style>\n",
       "<table border=\"1\" class=\"dataframe\">\n",
       "  <thead>\n",
       "    <tr style=\"text-align: right;\">\n",
       "      <th></th>\n",
       "      <th>text</th>\n",
       "      <th>sensitive_label</th>\n",
       "    </tr>\n",
       "  </thead>\n",
       "  <tbody>\n",
       "    <tr>\n",
       "      <th>23</th>\n",
       "      <td>Onset and recovery of atracurium and suxamethonium-induced neuromuscular blockade with simultaneous train-of-four and single twitch stimulation. Single twitch and train-of-four stimulation were applied at 0.08 Hz to each ulnar nerve and the force of contraction of the adductor pollicis was recorded during onset of and recovery from neuromuscular blockade by suxamethonium 1 mg kg-1 or atracurium 0.4 mg kg-1. Times to 90% first twitch blockade of train-of-four were (mean +/- SEM) 0.82 +/- 0.08 and 1.98 +/- 0.18 min for suxamethonium and atracurium, respectively, compared with times to 90% single twitch blockade of 1.00 +/- 0.07 and 3.35 +/- 0.37 min, respectively (P less than 0.05 in both cases). Apparent onset time also depended on how long train-of-four stimulation had been applied before injection of atracurium. The mode of stimulation had little effect on time to 10% recovery. The results are consistent with stimulation-induced augmentation in muscle blood flow, which increased delivery of the drug to the neuromuscular junction.</td>\n",
       "      <td>0</td>\n",
       "    </tr>\n",
       "    <tr>\n",
       "      <th>24</th>\n",
       "      <td>Atracurium, vecuronium and pancuronium in end-stage renal failure. Dose-response properties and interactions with azathioprine. Dose-response relations for atracurium, vecuronium and pancuronium were determined in patients in end-stage renal failure for the initial neuromuscular blockade (using three cumulative doses) and for the maintenance of stable 90% response (during continuous infusion). All measurements were during renal transplant surgery, and the interaction of azathioprine on neuromuscular blockade was estimated. Mean ED95 doses were (microgram kg-1): atracurium 375.6, vecuronium 67.2, pancuronium 86.6; the initial blockade required significantly larger doses than in normal patients (37%, 20% and 45%, respectively, using ED50 values). Mean infusion rates for 90% sustained blockade in renal failure were (microgram kg-1 h-1): atracurium 409.4, vecuronium 78.3, pancuronium 14.2. The atracurium dose was not influenced by renal function, whereas vecuronium and pancuronium requirements were significantly reduced by 23.2% and 61.5%, respectively, compared with normal patients (previous study). Azathioprine was injected at the rate of 1 mg kg-1 min-1 for 3 min at stable 90% neuromuscular blockade with constant-rate infusion of the neuromuscular blocking drug. This produced a relatively small and transient antagonism of blockade--probably of negligible clinical significance.</td>\n",
       "      <td>1</td>\n",
       "    </tr>\n",
       "  </tbody>\n",
       "</table>\n",
       "</div>"
      ],
      "text/plain": [
       "                                                                                                                                                                                                                                                                                                                                                                                                                                                                                                                                                                                                                                                                                                                                                                                                                                                                                                                                                                                                                                                                                                                                                                                                                                                                                                                                                                                                                                                      text  \\\n",
       "23                                                                                                                                                                                                                                                                                                                                                                  Onset and recovery of atracurium and suxamethonium-induced neuromuscular blockade with simultaneous train-of-four and single twitch stimulation. Single twitch and train-of-four stimulation were applied at 0.08 Hz to each ulnar nerve and the force of contraction of the adductor pollicis was recorded during onset of and recovery from neuromuscular blockade by suxamethonium 1 mg kg-1 or atracurium 0.4 mg kg-1. Times to 90% first twitch blockade of train-of-four were (mean +/- SEM) 0.82 +/- 0.08 and 1.98 +/- 0.18 min for suxamethonium and atracurium, respectively, compared with times to 90% single twitch blockade of 1.00 +/- 0.07 and 3.35 +/- 0.37 min, respectively (P less than 0.05 in both cases). Apparent onset time also depended on how long train-of-four stimulation had been applied before injection of atracurium. The mode of stimulation had little effect on time to 10% recovery. The results are consistent with stimulation-induced augmentation in muscle blood flow, which increased delivery of the drug to the neuromuscular junction.   \n",
       "24  Atracurium, vecuronium and pancuronium in end-stage renal failure. Dose-response properties and interactions with azathioprine. Dose-response relations for atracurium, vecuronium and pancuronium were determined in patients in end-stage renal failure for the initial neuromuscular blockade (using three cumulative doses) and for the maintenance of stable 90% response (during continuous infusion). All measurements were during renal transplant surgery, and the interaction of azathioprine on neuromuscular blockade was estimated. Mean ED95 doses were (microgram kg-1): atracurium 375.6, vecuronium 67.2, pancuronium 86.6; the initial blockade required significantly larger doses than in normal patients (37%, 20% and 45%, respectively, using ED50 values). Mean infusion rates for 90% sustained blockade in renal failure were (microgram kg-1 h-1): atracurium 409.4, vecuronium 78.3, pancuronium 14.2. The atracurium dose was not influenced by renal function, whereas vecuronium and pancuronium requirements were significantly reduced by 23.2% and 61.5%, respectively, compared with normal patients (previous study). Azathioprine was injected at the rate of 1 mg kg-1 min-1 for 3 min at stable 90% neuromuscular blockade with constant-rate infusion of the neuromuscular blocking drug. This produced a relatively small and transient antagonism of blockade--probably of negligible clinical significance.   \n",
       "\n",
       "    sensitive_label  \n",
       "23                0  \n",
       "24                1  "
      ]
     },
     "execution_count": 48,
     "metadata": {},
     "output_type": "execute_result"
    }
   ],
   "source": [
    "rows"
   ]
  },
  {
   "cell_type": "code",
   "execution_count": 46,
   "id": "4e9594cf-a0f1-4037-a184-e525862fe49d",
   "metadata": {},
   "outputs": [
    {
     "name": "stderr",
     "output_type": "stream",
     "text": [
      "C:\\Users\\leond\\AppData\\Local\\Temp\\ipykernel_23224\\3560581861.py:2: SettingWithCopyWarning: \n",
      "A value is trying to be set on a copy of a slice from a DataFrame.\n",
      "Try using .loc[row_indexer,col_indexer] = value instead\n",
      "\n",
      "See the caveats in the documentation: https://pandas.pydata.org/pandas-docs/stable/user_guide/indexing.html#returning-a-view-versus-a-copy\n",
      "  df['text'] = df['title'] + \" \" + df['abstract']\n"
     ]
    }
   ],
   "source": [
    "# Combine title and abstract\n",
    "df['text'] = df['title'] + \" \" + df['abstract']\n",
    "\n",
    "df = df[['text', 'sensitive_label']]"
   ]
  }
 ],
 "metadata": {
  "kernelspec": {
   "display_name": "jupyter edds",
   "language": "python",
   "name": "myenv"
  },
  "language_info": {
   "codemirror_mode": {
    "name": "ipython",
    "version": 3
   },
   "file_extension": ".py",
   "mimetype": "text/x-python",
   "name": "python",
   "nbconvert_exporter": "python",
   "pygments_lexer": "ipython3",
   "version": "3.12.1"
  }
 },
 "nbformat": 4,
 "nbformat_minor": 5
}

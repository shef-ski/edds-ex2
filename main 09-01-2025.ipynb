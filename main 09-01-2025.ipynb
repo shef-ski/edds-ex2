{
 "cells": [
  {
   "cell_type": "markdown",
   "id": "5e248b04-3a76-4ad0-833f-40eec10e3639",
   "metadata": {},
   "source": [
    "# Imports"
   ]
  },
  {
   "cell_type": "code",
   "execution_count": 33,
   "id": "b56eb486-1809-45a3-9c7c-0dd2005e7f39",
   "metadata": {},
   "outputs": [],
   "source": [
    "import pandas as pd\n",
    "import numpy as np\n",
    "import os\n",
    "\n",
    "# For Logistic Regression\n",
    "from sklearn.feature_extraction.text import TfidfVectorizer\n",
    "from sklearn.linear_model import LogisticRegression\n",
    "from sklearn.metrics import precision_recall_fscore_support, accuracy_score, fbeta_score\n",
    "from sklearn.model_selection import train_test_split\n",
    "\n",
    "# For DistilBERT\n",
    "from datasets import Dataset\n",
    "from transformers import DistilBertTokenizer, DistilBertForSequenceClassification, Trainer, TrainingArguments"
   ]
  },
  {
   "cell_type": "code",
   "execution_count": 2,
   "id": "149f8586-8f53-49cb-8e39-908853274962",
   "metadata": {},
   "outputs": [],
   "source": [
    "# Custom functions\n",
    "from functions import load_parquet_as_df, is_sensitive, get_keywords_from_xml"
   ]
  },
  {
   "cell_type": "markdown",
   "id": "aa015adc-58e3-4a9a-a080-5ec28bd34d32",
   "metadata": {
    "jp-MarkdownHeadingCollapsed": true
   },
   "source": [
    "# Load Data"
   ]
  },
  {
   "cell_type": "code",
   "execution_count": 5,
   "id": "1a3b1244-8d96-4c4b-89da-244300c3f3b7",
   "metadata": {},
   "outputs": [],
   "source": [
    "# Adjust paths accordingly:\n",
    "test_path = \"data/OHSUMED/test-00000-of-00001.parquet\"\n",
    "train_path = \"data/OHSUMED/train-00000-of-00001.parquet\"\n",
    "\n",
    "df_test = load_parquet_as_df(test_path)\n",
    "df_train = load_parquet_as_df(train_path)\n",
    "\n",
    "df = pd.concat([df_test, df_train], axis=0)"
   ]
  },
  {
   "cell_type": "code",
   "execution_count": 6,
   "id": "d514c34a-337e-484a-a8d3-755ce4d2f545",
   "metadata": {},
   "outputs": [
    {
     "name": "stdout",
     "output_type": "stream",
     "text": [
      "348564\n"
     ]
    },
    {
     "data": {
      "text/plain": [
       "Index(['seq_id', 'medline_ui', 'mesh_terms', 'title', 'publication_type',\n",
       "       'abstract', 'author', 'source'],\n",
       "      dtype='object')"
      ]
     },
     "execution_count": 6,
     "metadata": {},
     "output_type": "execute_result"
    }
   ],
   "source": [
    "print(len(df))\n",
    "df.columns"
   ]
  },
  {
   "cell_type": "markdown",
   "id": "acf6c11e-1015-4a93-b04b-672cd0fb457b",
   "metadata": {},
   "source": [
    "**View an example mesh_terms entry**"
   ]
  },
  {
   "cell_type": "code",
   "execution_count": 7,
   "id": "7e81af1f-6275-4214-8e1b-cde0f5cb4dfb",
   "metadata": {},
   "outputs": [
    {
     "data": {
      "text/plain": [
       "92    Abortion, Habitual/*CO/PC; Adult; Case Report; Chromosome Abnormalities/*CO/GE; Female; Fibrinogen/*BL/TU; Human; Karyotyping; Pedigree; Pregnancy; Support, Non-U.S. Gov't; Support, U.S. Gov't, P.H.S.; Translocation (Genetics).\n",
       "92                                             Blood Pressure; Catheters, Indwelling/*ST; Hemodialysis/*ST; Human; Kidney Failure, Acute/*PP/TH; Kidney Failure, Chronic/*PP/TH; Polyurethanes; Quality Control; Support, Non-U.S. Gov't.\n",
       "Name: mesh_terms, dtype: object"
      ]
     },
     "execution_count": 7,
     "metadata": {},
     "output_type": "execute_result"
    }
   ],
   "source": [
    "# Set max column width to display long strings fully\n",
    "pd.set_option('display.max_colwidth', None)\n",
    "\n",
    "# Now, accessing the entry will show the full string\n",
    "df['mesh_terms'][92]"
   ]
  },
  {
   "cell_type": "markdown",
   "id": "127f2d7b-9749-41c9-a947-7fbb8f744151",
   "metadata": {},
   "source": [
    "# Sensitivity Labeling"
   ]
  },
  {
   "cell_type": "code",
   "execution_count": 10,
   "id": "462394e8-e6f3-471a-b5e5-2f712a044a51",
   "metadata": {},
   "outputs": [],
   "source": [
    "MESH_XML_FILE = \"data/nlm/mesh/medit/ascii_xml/output/desc2022.xml\"\n",
    "\n",
    "c12_terms, c13_terms = get_keywords_from_xml(MESH_XML_FILE)"
   ]
  },
  {
   "cell_type": "code",
   "execution_count": 11,
   "id": "7dc44a26-9c84-4061-8c7c-13d9ee71fea7",
   "metadata": {},
   "outputs": [],
   "source": [
    "# Create a binary label based on if a match can be found\n",
    "df['sensitive_label'] = df['mesh_terms'].apply(\n",
    "    lambda x: is_sensitive(x, c12_terms, c13_terms)\n",
    ")"
   ]
  },
  {
   "cell_type": "code",
   "execution_count": 12,
   "id": "72c5b611-9765-4555-9125-7b69cb47cf70",
   "metadata": {},
   "outputs": [
    {
     "name": "stdout",
     "output_type": "stream",
     "text": [
      "7.72% of the rows are sensitive\n"
     ]
    }
   ],
   "source": [
    "percentage_sensitive = 100 * df['sensitive_label'].mean()\n",
    "print(f\"{percentage_sensitive:.2f}% of the rows are sensitive\")"
   ]
  },
  {
   "cell_type": "markdown",
   "id": "7301a7ba-3082-4619-953f-279e05aa570b",
   "metadata": {},
   "source": [
    "# Data Processing"
   ]
  },
  {
   "cell_type": "code",
   "execution_count": 16,
   "id": "fd8dbe9c-5cc7-4b87-b68e-ca1a55c8f0d7",
   "metadata": {},
   "outputs": [],
   "source": [
    "# Only save relevant columns to make file smaller\n",
    "relevant_columns = ['title', 'abstract', 'sensitive_label']\n",
    "df = df[relevant_columns]"
   ]
  },
  {
   "cell_type": "code",
   "execution_count": 17,
   "id": "e0ebcf09-b769-40f3-94a5-397f8b255f23",
   "metadata": {},
   "outputs": [],
   "source": [
    "save_csv = False  # Set this to True if you want to save the current df\n",
    "\n",
    "if save_csv:\n",
    "    save_path = \"data/OHSUMED/full_ohsumed_sensitivity_labeled.csv\"\n",
    "    \n",
    "    # Check if the file already exists\n",
    "    if not os.path.exists(save_path):\n",
    "        df.to_csv(save_path, index=False)\n",
    "        print(f\"File saved to {save_path}\")\n",
    "    else:\n",
    "        print(f\"File already exists at {save_path}, skipping save.\")"
   ]
  },
  {
   "cell_type": "code",
   "execution_count": 18,
   "id": "34f8da5c-82a7-458e-89fc-d670578fd461",
   "metadata": {},
   "outputs": [],
   "source": [
    "# Combine title and abstract\n",
    "df['text'] = df['title'] + \" \" + df['abstract']\n",
    "\n",
    "df = df[['text', 'sensitive_label']]  # we only need these two columns for the ML part"
   ]
  },
  {
   "cell_type": "code",
   "execution_count": 20,
   "id": "54775bc4-9436-4494-b113-e52a512f0d3c",
   "metadata": {},
   "outputs": [
    {
     "data": {
      "text/plain": [
       "[24, 92, 146, 177, 196]"
      ]
     },
     "execution_count": 20,
     "metadata": {},
     "output_type": "execute_result"
    }
   ],
   "source": [
    "# A list which contains indices of rows which have a 1 as label\n",
    "# We can use it to find records which have been labeled as sensitive\n",
    "indices = df.index[df['sensitive_label'] == 1].tolist()\n",
    "indices[0:5]"
   ]
  },
  {
   "cell_type": "code",
   "execution_count": 24,
   "id": "79ccfb30-5c0d-4be3-86c5-1d6788a47947",
   "metadata": {},
   "outputs": [
    {
     "data": {
      "text/html": [
       "<div>\n",
       "<style scoped>\n",
       "    .dataframe tbody tr th:only-of-type {\n",
       "        vertical-align: middle;\n",
       "    }\n",
       "\n",
       "    .dataframe tbody tr th {\n",
       "        vertical-align: top;\n",
       "    }\n",
       "\n",
       "    .dataframe thead th {\n",
       "        text-align: right;\n",
       "    }\n",
       "</style>\n",
       "<table border=\"1\" class=\"dataframe\">\n",
       "  <thead>\n",
       "    <tr style=\"text-align: right;\">\n",
       "      <th></th>\n",
       "      <th>text</th>\n",
       "      <th>sensitive_label</th>\n",
       "    </tr>\n",
       "  </thead>\n",
       "  <tbody>\n",
       "    <tr>\n",
       "      <th>23</th>\n",
       "      <td>Onset and recovery of atracurium and suxamethonium-induced neuromuscular blockade with simultaneous train-of-four and single twitch stimulation. Single twitch and train-of-four stimulation were applied at 0.08 Hz to each ulnar nerve and the force of contraction of the adductor pollicis was recorded during onset of and recovery from neuromuscular blockade by suxamethonium 1 mg kg-1 or atracurium 0.4 mg kg-1. Times to 90% first twitch blockade of train-of-four were (mean +/- SEM) 0.82 +/- 0.08 and 1.98 +/- 0.18 min for suxamethonium and atracurium, respectively, compared with times to 90% single twitch blockade of 1.00 +/- 0.07 and 3.35 +/- 0.37 min, respectively (P less than 0.05 in both cases). Apparent onset time also depended on how long train-of-four stimulation had been applied before injection of atracurium. The mode of stimulation had little effect on time to 10% recovery. The results are consistent with stimulation-induced augmentation in muscle blood flow, which increased delivery of the drug to the neuromuscular junction.</td>\n",
       "      <td>0</td>\n",
       "    </tr>\n",
       "    <tr>\n",
       "      <th>24</th>\n",
       "      <td>Atracurium, vecuronium and pancuronium in end-stage renal failure. Dose-response properties and interactions with azathioprine. Dose-response relations for atracurium, vecuronium and pancuronium were determined in patients in end-stage renal failure for the initial neuromuscular blockade (using three cumulative doses) and for the maintenance of stable 90% response (during continuous infusion). All measurements were during renal transplant surgery, and the interaction of azathioprine on neuromuscular blockade was estimated. Mean ED95 doses were (microgram kg-1): atracurium 375.6, vecuronium 67.2, pancuronium 86.6; the initial blockade required significantly larger doses than in normal patients (37%, 20% and 45%, respectively, using ED50 values). Mean infusion rates for 90% sustained blockade in renal failure were (microgram kg-1 h-1): atracurium 409.4, vecuronium 78.3, pancuronium 14.2. The atracurium dose was not influenced by renal function, whereas vecuronium and pancuronium requirements were significantly reduced by 23.2% and 61.5%, respectively, compared with normal patients (previous study). Azathioprine was injected at the rate of 1 mg kg-1 min-1 for 3 min at stable 90% neuromuscular blockade with constant-rate infusion of the neuromuscular blocking drug. This produced a relatively small and transient antagonism of blockade--probably of negligible clinical significance.</td>\n",
       "      <td>1</td>\n",
       "    </tr>\n",
       "  </tbody>\n",
       "</table>\n",
       "</div>"
      ],
      "text/plain": [
       "                                                                                                                                                                                                                                                                                                                                                                                                                                                                                                                                                                                                                                                                                                                                                                                                                                                                                                                                                                                                                                                                                                                                                                                                                                                                                                                                                                                                                                                      text  \\\n",
       "23                                                                                                                                                                                                                                                                                                                                                                  Onset and recovery of atracurium and suxamethonium-induced neuromuscular blockade with simultaneous train-of-four and single twitch stimulation. Single twitch and train-of-four stimulation were applied at 0.08 Hz to each ulnar nerve and the force of contraction of the adductor pollicis was recorded during onset of and recovery from neuromuscular blockade by suxamethonium 1 mg kg-1 or atracurium 0.4 mg kg-1. Times to 90% first twitch blockade of train-of-four were (mean +/- SEM) 0.82 +/- 0.08 and 1.98 +/- 0.18 min for suxamethonium and atracurium, respectively, compared with times to 90% single twitch blockade of 1.00 +/- 0.07 and 3.35 +/- 0.37 min, respectively (P less than 0.05 in both cases). Apparent onset time also depended on how long train-of-four stimulation had been applied before injection of atracurium. The mode of stimulation had little effect on time to 10% recovery. The results are consistent with stimulation-induced augmentation in muscle blood flow, which increased delivery of the drug to the neuromuscular junction.   \n",
       "24  Atracurium, vecuronium and pancuronium in end-stage renal failure. Dose-response properties and interactions with azathioprine. Dose-response relations for atracurium, vecuronium and pancuronium were determined in patients in end-stage renal failure for the initial neuromuscular blockade (using three cumulative doses) and for the maintenance of stable 90% response (during continuous infusion). All measurements were during renal transplant surgery, and the interaction of azathioprine on neuromuscular blockade was estimated. Mean ED95 doses were (microgram kg-1): atracurium 375.6, vecuronium 67.2, pancuronium 86.6; the initial blockade required significantly larger doses than in normal patients (37%, 20% and 45%, respectively, using ED50 values). Mean infusion rates for 90% sustained blockade in renal failure were (microgram kg-1 h-1): atracurium 409.4, vecuronium 78.3, pancuronium 14.2. The atracurium dose was not influenced by renal function, whereas vecuronium and pancuronium requirements were significantly reduced by 23.2% and 61.5%, respectively, compared with normal patients (previous study). Azathioprine was injected at the rate of 1 mg kg-1 min-1 for 3 min at stable 90% neuromuscular blockade with constant-rate infusion of the neuromuscular blocking drug. This produced a relatively small and transient antagonism of blockade--probably of negligible clinical significance.   \n",
       "\n",
       "    sensitive_label  \n",
       "23                0  \n",
       "24                1  "
      ]
     },
     "execution_count": 24,
     "metadata": {},
     "output_type": "execute_result"
    }
   ],
   "source": [
    "# An example of two rows, one from each group\n",
    "row_selection = df.iloc[23:25]\n",
    "row_selection"
   ]
  },
  {
   "cell_type": "code",
   "execution_count": 46,
   "id": "c4b244b6-d76a-4935-8bfd-10d84e042017",
   "metadata": {},
   "outputs": [],
   "source": [
    "# Split the data into training, validation, and test sets\n",
    "train_texts, temp_texts, train_labels, temp_labels = train_test_split(\n",
    "    df['text'], df['sensitive_label'], test_size=0.15, random_state=123, stratify=df['sensitive_label']\n",
    ")\n",
    "\n",
    "val_texts, test_texts, val_labels, test_labels = train_test_split(\n",
    "    temp_texts, temp_labels, test_size=0.5, random_state=123, stratify=temp_labels\n",
    ")"
   ]
  },
  {
   "cell_type": "markdown",
   "id": "625bb793-ab54-4d90-b1f5-af3bf325c9dc",
   "metadata": {},
   "source": [
    "# Logistic Regression\n",
    "\n",
    "For the following, there was little information in the paper. We made basic assumptions on how to implement the LR. While not mentioned in the paper, TF-IDF is commonly used for obtaining features. "
   ]
  },
  {
   "cell_type": "markdown",
   "id": "d9e7cc09-8005-4e5e-be8b-ee24e8a3fc80",
   "metadata": {},
   "source": [
    "**Note: the following cell typically takes a few minutes to run.**"
   ]
  },
  {
   "cell_type": "code",
   "execution_count": 47,
   "id": "8652f30c-0e9e-4188-96b7-a4d1b13a90d9",
   "metadata": {},
   "outputs": [],
   "source": [
    "# Convert text to numerical features using TF-IDF\n",
    "vectorizer = TfidfVectorizer(max_features=10000, ngram_range=(1, 2), stop_words='english')\n",
    "X_train = vectorizer.fit_transform(train_texts)\n",
    "X_val = vectorizer.transform(val_texts)\n",
    "X_test = vectorizer.transform(test_texts)"
   ]
  },
  {
   "cell_type": "code",
   "execution_count": 48,
   "id": "c2c8d508-bd1a-4a69-8128-3aafe41a4e64",
   "metadata": {},
   "outputs": [
    {
     "data": {
      "text/html": [
       "<style>#sk-container-id-2 {\n",
       "  /* Definition of color scheme common for light and dark mode */\n",
       "  --sklearn-color-text: #000;\n",
       "  --sklearn-color-text-muted: #666;\n",
       "  --sklearn-color-line: gray;\n",
       "  /* Definition of color scheme for unfitted estimators */\n",
       "  --sklearn-color-unfitted-level-0: #fff5e6;\n",
       "  --sklearn-color-unfitted-level-1: #f6e4d2;\n",
       "  --sklearn-color-unfitted-level-2: #ffe0b3;\n",
       "  --sklearn-color-unfitted-level-3: chocolate;\n",
       "  /* Definition of color scheme for fitted estimators */\n",
       "  --sklearn-color-fitted-level-0: #f0f8ff;\n",
       "  --sklearn-color-fitted-level-1: #d4ebff;\n",
       "  --sklearn-color-fitted-level-2: #b3dbfd;\n",
       "  --sklearn-color-fitted-level-3: cornflowerblue;\n",
       "\n",
       "  /* Specific color for light theme */\n",
       "  --sklearn-color-text-on-default-background: var(--sg-text-color, var(--theme-code-foreground, var(--jp-content-font-color1, black)));\n",
       "  --sklearn-color-background: var(--sg-background-color, var(--theme-background, var(--jp-layout-color0, white)));\n",
       "  --sklearn-color-border-box: var(--sg-text-color, var(--theme-code-foreground, var(--jp-content-font-color1, black)));\n",
       "  --sklearn-color-icon: #696969;\n",
       "\n",
       "  @media (prefers-color-scheme: dark) {\n",
       "    /* Redefinition of color scheme for dark theme */\n",
       "    --sklearn-color-text-on-default-background: var(--sg-text-color, var(--theme-code-foreground, var(--jp-content-font-color1, white)));\n",
       "    --sklearn-color-background: var(--sg-background-color, var(--theme-background, var(--jp-layout-color0, #111)));\n",
       "    --sklearn-color-border-box: var(--sg-text-color, var(--theme-code-foreground, var(--jp-content-font-color1, white)));\n",
       "    --sklearn-color-icon: #878787;\n",
       "  }\n",
       "}\n",
       "\n",
       "#sk-container-id-2 {\n",
       "  color: var(--sklearn-color-text);\n",
       "}\n",
       "\n",
       "#sk-container-id-2 pre {\n",
       "  padding: 0;\n",
       "}\n",
       "\n",
       "#sk-container-id-2 input.sk-hidden--visually {\n",
       "  border: 0;\n",
       "  clip: rect(1px 1px 1px 1px);\n",
       "  clip: rect(1px, 1px, 1px, 1px);\n",
       "  height: 1px;\n",
       "  margin: -1px;\n",
       "  overflow: hidden;\n",
       "  padding: 0;\n",
       "  position: absolute;\n",
       "  width: 1px;\n",
       "}\n",
       "\n",
       "#sk-container-id-2 div.sk-dashed-wrapped {\n",
       "  border: 1px dashed var(--sklearn-color-line);\n",
       "  margin: 0 0.4em 0.5em 0.4em;\n",
       "  box-sizing: border-box;\n",
       "  padding-bottom: 0.4em;\n",
       "  background-color: var(--sklearn-color-background);\n",
       "}\n",
       "\n",
       "#sk-container-id-2 div.sk-container {\n",
       "  /* jupyter's `normalize.less` sets `[hidden] { display: none; }`\n",
       "     but bootstrap.min.css set `[hidden] { display: none !important; }`\n",
       "     so we also need the `!important` here to be able to override the\n",
       "     default hidden behavior on the sphinx rendered scikit-learn.org.\n",
       "     See: https://github.com/scikit-learn/scikit-learn/issues/21755 */\n",
       "  display: inline-block !important;\n",
       "  position: relative;\n",
       "}\n",
       "\n",
       "#sk-container-id-2 div.sk-text-repr-fallback {\n",
       "  display: none;\n",
       "}\n",
       "\n",
       "div.sk-parallel-item,\n",
       "div.sk-serial,\n",
       "div.sk-item {\n",
       "  /* draw centered vertical line to link estimators */\n",
       "  background-image: linear-gradient(var(--sklearn-color-text-on-default-background), var(--sklearn-color-text-on-default-background));\n",
       "  background-size: 2px 100%;\n",
       "  background-repeat: no-repeat;\n",
       "  background-position: center center;\n",
       "}\n",
       "\n",
       "/* Parallel-specific style estimator block */\n",
       "\n",
       "#sk-container-id-2 div.sk-parallel-item::after {\n",
       "  content: \"\";\n",
       "  width: 100%;\n",
       "  border-bottom: 2px solid var(--sklearn-color-text-on-default-background);\n",
       "  flex-grow: 1;\n",
       "}\n",
       "\n",
       "#sk-container-id-2 div.sk-parallel {\n",
       "  display: flex;\n",
       "  align-items: stretch;\n",
       "  justify-content: center;\n",
       "  background-color: var(--sklearn-color-background);\n",
       "  position: relative;\n",
       "}\n",
       "\n",
       "#sk-container-id-2 div.sk-parallel-item {\n",
       "  display: flex;\n",
       "  flex-direction: column;\n",
       "}\n",
       "\n",
       "#sk-container-id-2 div.sk-parallel-item:first-child::after {\n",
       "  align-self: flex-end;\n",
       "  width: 50%;\n",
       "}\n",
       "\n",
       "#sk-container-id-2 div.sk-parallel-item:last-child::after {\n",
       "  align-self: flex-start;\n",
       "  width: 50%;\n",
       "}\n",
       "\n",
       "#sk-container-id-2 div.sk-parallel-item:only-child::after {\n",
       "  width: 0;\n",
       "}\n",
       "\n",
       "/* Serial-specific style estimator block */\n",
       "\n",
       "#sk-container-id-2 div.sk-serial {\n",
       "  display: flex;\n",
       "  flex-direction: column;\n",
       "  align-items: center;\n",
       "  background-color: var(--sklearn-color-background);\n",
       "  padding-right: 1em;\n",
       "  padding-left: 1em;\n",
       "}\n",
       "\n",
       "\n",
       "/* Toggleable style: style used for estimator/Pipeline/ColumnTransformer box that is\n",
       "clickable and can be expanded/collapsed.\n",
       "- Pipeline and ColumnTransformer use this feature and define the default style\n",
       "- Estimators will overwrite some part of the style using the `sk-estimator` class\n",
       "*/\n",
       "\n",
       "/* Pipeline and ColumnTransformer style (default) */\n",
       "\n",
       "#sk-container-id-2 div.sk-toggleable {\n",
       "  /* Default theme specific background. It is overwritten whether we have a\n",
       "  specific estimator or a Pipeline/ColumnTransformer */\n",
       "  background-color: var(--sklearn-color-background);\n",
       "}\n",
       "\n",
       "/* Toggleable label */\n",
       "#sk-container-id-2 label.sk-toggleable__label {\n",
       "  cursor: pointer;\n",
       "  display: flex;\n",
       "  width: 100%;\n",
       "  margin-bottom: 0;\n",
       "  padding: 0.5em;\n",
       "  box-sizing: border-box;\n",
       "  text-align: center;\n",
       "  align-items: start;\n",
       "  justify-content: space-between;\n",
       "  gap: 0.5em;\n",
       "}\n",
       "\n",
       "#sk-container-id-2 label.sk-toggleable__label .caption {\n",
       "  font-size: 0.6rem;\n",
       "  font-weight: lighter;\n",
       "  color: var(--sklearn-color-text-muted);\n",
       "}\n",
       "\n",
       "#sk-container-id-2 label.sk-toggleable__label-arrow:before {\n",
       "  /* Arrow on the left of the label */\n",
       "  content: \"▸\";\n",
       "  float: left;\n",
       "  margin-right: 0.25em;\n",
       "  color: var(--sklearn-color-icon);\n",
       "}\n",
       "\n",
       "#sk-container-id-2 label.sk-toggleable__label-arrow:hover:before {\n",
       "  color: var(--sklearn-color-text);\n",
       "}\n",
       "\n",
       "/* Toggleable content - dropdown */\n",
       "\n",
       "#sk-container-id-2 div.sk-toggleable__content {\n",
       "  max-height: 0;\n",
       "  max-width: 0;\n",
       "  overflow: hidden;\n",
       "  text-align: left;\n",
       "  /* unfitted */\n",
       "  background-color: var(--sklearn-color-unfitted-level-0);\n",
       "}\n",
       "\n",
       "#sk-container-id-2 div.sk-toggleable__content.fitted {\n",
       "  /* fitted */\n",
       "  background-color: var(--sklearn-color-fitted-level-0);\n",
       "}\n",
       "\n",
       "#sk-container-id-2 div.sk-toggleable__content pre {\n",
       "  margin: 0.2em;\n",
       "  border-radius: 0.25em;\n",
       "  color: var(--sklearn-color-text);\n",
       "  /* unfitted */\n",
       "  background-color: var(--sklearn-color-unfitted-level-0);\n",
       "}\n",
       "\n",
       "#sk-container-id-2 div.sk-toggleable__content.fitted pre {\n",
       "  /* unfitted */\n",
       "  background-color: var(--sklearn-color-fitted-level-0);\n",
       "}\n",
       "\n",
       "#sk-container-id-2 input.sk-toggleable__control:checked~div.sk-toggleable__content {\n",
       "  /* Expand drop-down */\n",
       "  max-height: 200px;\n",
       "  max-width: 100%;\n",
       "  overflow: auto;\n",
       "}\n",
       "\n",
       "#sk-container-id-2 input.sk-toggleable__control:checked~label.sk-toggleable__label-arrow:before {\n",
       "  content: \"▾\";\n",
       "}\n",
       "\n",
       "/* Pipeline/ColumnTransformer-specific style */\n",
       "\n",
       "#sk-container-id-2 div.sk-label input.sk-toggleable__control:checked~label.sk-toggleable__label {\n",
       "  color: var(--sklearn-color-text);\n",
       "  background-color: var(--sklearn-color-unfitted-level-2);\n",
       "}\n",
       "\n",
       "#sk-container-id-2 div.sk-label.fitted input.sk-toggleable__control:checked~label.sk-toggleable__label {\n",
       "  background-color: var(--sklearn-color-fitted-level-2);\n",
       "}\n",
       "\n",
       "/* Estimator-specific style */\n",
       "\n",
       "/* Colorize estimator box */\n",
       "#sk-container-id-2 div.sk-estimator input.sk-toggleable__control:checked~label.sk-toggleable__label {\n",
       "  /* unfitted */\n",
       "  background-color: var(--sklearn-color-unfitted-level-2);\n",
       "}\n",
       "\n",
       "#sk-container-id-2 div.sk-estimator.fitted input.sk-toggleable__control:checked~label.sk-toggleable__label {\n",
       "  /* fitted */\n",
       "  background-color: var(--sklearn-color-fitted-level-2);\n",
       "}\n",
       "\n",
       "#sk-container-id-2 div.sk-label label.sk-toggleable__label,\n",
       "#sk-container-id-2 div.sk-label label {\n",
       "  /* The background is the default theme color */\n",
       "  color: var(--sklearn-color-text-on-default-background);\n",
       "}\n",
       "\n",
       "/* On hover, darken the color of the background */\n",
       "#sk-container-id-2 div.sk-label:hover label.sk-toggleable__label {\n",
       "  color: var(--sklearn-color-text);\n",
       "  background-color: var(--sklearn-color-unfitted-level-2);\n",
       "}\n",
       "\n",
       "/* Label box, darken color on hover, fitted */\n",
       "#sk-container-id-2 div.sk-label.fitted:hover label.sk-toggleable__label.fitted {\n",
       "  color: var(--sklearn-color-text);\n",
       "  background-color: var(--sklearn-color-fitted-level-2);\n",
       "}\n",
       "\n",
       "/* Estimator label */\n",
       "\n",
       "#sk-container-id-2 div.sk-label label {\n",
       "  font-family: monospace;\n",
       "  font-weight: bold;\n",
       "  display: inline-block;\n",
       "  line-height: 1.2em;\n",
       "}\n",
       "\n",
       "#sk-container-id-2 div.sk-label-container {\n",
       "  text-align: center;\n",
       "}\n",
       "\n",
       "/* Estimator-specific */\n",
       "#sk-container-id-2 div.sk-estimator {\n",
       "  font-family: monospace;\n",
       "  border: 1px dotted var(--sklearn-color-border-box);\n",
       "  border-radius: 0.25em;\n",
       "  box-sizing: border-box;\n",
       "  margin-bottom: 0.5em;\n",
       "  /* unfitted */\n",
       "  background-color: var(--sklearn-color-unfitted-level-0);\n",
       "}\n",
       "\n",
       "#sk-container-id-2 div.sk-estimator.fitted {\n",
       "  /* fitted */\n",
       "  background-color: var(--sklearn-color-fitted-level-0);\n",
       "}\n",
       "\n",
       "/* on hover */\n",
       "#sk-container-id-2 div.sk-estimator:hover {\n",
       "  /* unfitted */\n",
       "  background-color: var(--sklearn-color-unfitted-level-2);\n",
       "}\n",
       "\n",
       "#sk-container-id-2 div.sk-estimator.fitted:hover {\n",
       "  /* fitted */\n",
       "  background-color: var(--sklearn-color-fitted-level-2);\n",
       "}\n",
       "\n",
       "/* Specification for estimator info (e.g. \"i\" and \"?\") */\n",
       "\n",
       "/* Common style for \"i\" and \"?\" */\n",
       "\n",
       ".sk-estimator-doc-link,\n",
       "a:link.sk-estimator-doc-link,\n",
       "a:visited.sk-estimator-doc-link {\n",
       "  float: right;\n",
       "  font-size: smaller;\n",
       "  line-height: 1em;\n",
       "  font-family: monospace;\n",
       "  background-color: var(--sklearn-color-background);\n",
       "  border-radius: 1em;\n",
       "  height: 1em;\n",
       "  width: 1em;\n",
       "  text-decoration: none !important;\n",
       "  margin-left: 0.5em;\n",
       "  text-align: center;\n",
       "  /* unfitted */\n",
       "  border: var(--sklearn-color-unfitted-level-1) 1pt solid;\n",
       "  color: var(--sklearn-color-unfitted-level-1);\n",
       "}\n",
       "\n",
       ".sk-estimator-doc-link.fitted,\n",
       "a:link.sk-estimator-doc-link.fitted,\n",
       "a:visited.sk-estimator-doc-link.fitted {\n",
       "  /* fitted */\n",
       "  border: var(--sklearn-color-fitted-level-1) 1pt solid;\n",
       "  color: var(--sklearn-color-fitted-level-1);\n",
       "}\n",
       "\n",
       "/* On hover */\n",
       "div.sk-estimator:hover .sk-estimator-doc-link:hover,\n",
       ".sk-estimator-doc-link:hover,\n",
       "div.sk-label-container:hover .sk-estimator-doc-link:hover,\n",
       ".sk-estimator-doc-link:hover {\n",
       "  /* unfitted */\n",
       "  background-color: var(--sklearn-color-unfitted-level-3);\n",
       "  color: var(--sklearn-color-background);\n",
       "  text-decoration: none;\n",
       "}\n",
       "\n",
       "div.sk-estimator.fitted:hover .sk-estimator-doc-link.fitted:hover,\n",
       ".sk-estimator-doc-link.fitted:hover,\n",
       "div.sk-label-container:hover .sk-estimator-doc-link.fitted:hover,\n",
       ".sk-estimator-doc-link.fitted:hover {\n",
       "  /* fitted */\n",
       "  background-color: var(--sklearn-color-fitted-level-3);\n",
       "  color: var(--sklearn-color-background);\n",
       "  text-decoration: none;\n",
       "}\n",
       "\n",
       "/* Span, style for the box shown on hovering the info icon */\n",
       ".sk-estimator-doc-link span {\n",
       "  display: none;\n",
       "  z-index: 9999;\n",
       "  position: relative;\n",
       "  font-weight: normal;\n",
       "  right: .2ex;\n",
       "  padding: .5ex;\n",
       "  margin: .5ex;\n",
       "  width: min-content;\n",
       "  min-width: 20ex;\n",
       "  max-width: 50ex;\n",
       "  color: var(--sklearn-color-text);\n",
       "  box-shadow: 2pt 2pt 4pt #999;\n",
       "  /* unfitted */\n",
       "  background: var(--sklearn-color-unfitted-level-0);\n",
       "  border: .5pt solid var(--sklearn-color-unfitted-level-3);\n",
       "}\n",
       "\n",
       ".sk-estimator-doc-link.fitted span {\n",
       "  /* fitted */\n",
       "  background: var(--sklearn-color-fitted-level-0);\n",
       "  border: var(--sklearn-color-fitted-level-3);\n",
       "}\n",
       "\n",
       ".sk-estimator-doc-link:hover span {\n",
       "  display: block;\n",
       "}\n",
       "\n",
       "/* \"?\"-specific style due to the `<a>` HTML tag */\n",
       "\n",
       "#sk-container-id-2 a.estimator_doc_link {\n",
       "  float: right;\n",
       "  font-size: 1rem;\n",
       "  line-height: 1em;\n",
       "  font-family: monospace;\n",
       "  background-color: var(--sklearn-color-background);\n",
       "  border-radius: 1rem;\n",
       "  height: 1rem;\n",
       "  width: 1rem;\n",
       "  text-decoration: none;\n",
       "  /* unfitted */\n",
       "  color: var(--sklearn-color-unfitted-level-1);\n",
       "  border: var(--sklearn-color-unfitted-level-1) 1pt solid;\n",
       "}\n",
       "\n",
       "#sk-container-id-2 a.estimator_doc_link.fitted {\n",
       "  /* fitted */\n",
       "  border: var(--sklearn-color-fitted-level-1) 1pt solid;\n",
       "  color: var(--sklearn-color-fitted-level-1);\n",
       "}\n",
       "\n",
       "/* On hover */\n",
       "#sk-container-id-2 a.estimator_doc_link:hover {\n",
       "  /* unfitted */\n",
       "  background-color: var(--sklearn-color-unfitted-level-3);\n",
       "  color: var(--sklearn-color-background);\n",
       "  text-decoration: none;\n",
       "}\n",
       "\n",
       "#sk-container-id-2 a.estimator_doc_link.fitted:hover {\n",
       "  /* fitted */\n",
       "  background-color: var(--sklearn-color-fitted-level-3);\n",
       "}\n",
       "</style><div id=\"sk-container-id-2\" class=\"sk-top-container\"><div class=\"sk-text-repr-fallback\"><pre>LogisticRegression(class_weight=&#x27;balanced&#x27;, max_iter=1000, random_state=123)</pre><b>In a Jupyter environment, please rerun this cell to show the HTML representation or trust the notebook. <br />On GitHub, the HTML representation is unable to render, please try loading this page with nbviewer.org.</b></div><div class=\"sk-container\" hidden><div class=\"sk-item\"><div class=\"sk-estimator fitted sk-toggleable\"><input class=\"sk-toggleable__control sk-hidden--visually\" id=\"sk-estimator-id-2\" type=\"checkbox\" checked><label for=\"sk-estimator-id-2\" class=\"sk-toggleable__label fitted sk-toggleable__label-arrow\"><div><div>LogisticRegression</div></div><div><a class=\"sk-estimator-doc-link fitted\" rel=\"noreferrer\" target=\"_blank\" href=\"https://scikit-learn.org/1.6/modules/generated/sklearn.linear_model.LogisticRegression.html\">?<span>Documentation for LogisticRegression</span></a><span class=\"sk-estimator-doc-link fitted\">i<span>Fitted</span></span></div></label><div class=\"sk-toggleable__content fitted\"><pre>LogisticRegression(class_weight=&#x27;balanced&#x27;, max_iter=1000, random_state=123)</pre></div> </div></div></div></div>"
      ],
      "text/plain": [
       "LogisticRegression(class_weight='balanced', max_iter=1000, random_state=123)"
      ]
     },
     "execution_count": 48,
     "metadata": {},
     "output_type": "execute_result"
    }
   ],
   "source": [
    "# Train the logistic regression model\n",
    "model = LogisticRegression(max_iter=1000, class_weight='balanced', random_state=123)\n",
    "model.fit(X_train, train_labels)"
   ]
  },
  {
   "cell_type": "code",
   "execution_count": 49,
   "id": "d6d4f142-dbc4-4eb0-83be-c3768868afde",
   "metadata": {},
   "outputs": [],
   "source": [
    "# Get probabilities for the validation set\n",
    "val_probs = model.predict_proba(X_val)[:, 1]"
   ]
  },
  {
   "cell_type": "code",
   "execution_count": 50,
   "id": "9dc53276-1c12-4d66-b0ac-22f5a548d08a",
   "metadata": {},
   "outputs": [
    {
     "name": "stdout",
     "output_type": "stream",
     "text": [
      "Optimal Threshold: 0.76\n"
     ]
    },
    {
     "name": "stderr",
     "output_type": "stream",
     "text": [
      "C:\\Users\\leond\\Documents\\03_REPOS_TU\\edds-ex2\\venv\\Lib\\site-packages\\sklearn\\metrics\\_classification.py:1565: UndefinedMetricWarning: Precision is ill-defined and being set to 0.0 due to no predicted samples. Use `zero_division` parameter to control this behavior.\n",
      "  _warn_prf(average, modifier, f\"{metric.capitalize()} is\", len(result))\n"
     ]
    }
   ],
   "source": [
    "# As mentioned in the paper, use \"a grid search in the range [0, 1] with step size 0.01 to find the threshold that optimized the F1 measure.\n",
    "\n",
    "thresholds = np.linspace(0, 1, 101)\n",
    "best_threshold = 0\n",
    "best_f1 = 0\n",
    "\n",
    "for threshold in thresholds:\n",
    "    val_preds = (val_probs >= threshold).astype(int)\n",
    "    _, _, f1, _ = precision_recall_fscore_support(val_labels, val_preds, average='binary')\n",
    "    if f1 > best_f1:\n",
    "        best_f1 = f1\n",
    "        best_threshold = threshold\n",
    "\n",
    "print(f\"Optimal Threshold: {best_threshold}\")"
   ]
  },
  {
   "cell_type": "code",
   "execution_count": 51,
   "id": "e2c7bfac-7cf9-474f-8e17-5540c7bb0df4",
   "metadata": {},
   "outputs": [
    {
     "name": "stdout",
     "output_type": "stream",
     "text": [
      "Intrinsic sensitivity classification results:\n",
      "Precision: 0.57, Recall: 0.64, F1: 0.60, F2: 0.62, Accuracy: 0.93\n"
     ]
    }
   ],
   "source": [
    "# Evaluate on the test set using the optimal threshold\n",
    "test_probs = model.predict_proba(X_test)[:, 1]\n",
    "test_preds = (test_probs >= best_threshold).astype(int)\n",
    "\n",
    "precision, recall, f1, _ = precision_recall_fscore_support(test_labels, test_preds, average='binary')\n",
    "accuracy = accuracy_score(test_labels, test_preds)\n",
    "\n",
    "# Calculate F2 score\n",
    "f2 = fbeta_score(test_labels, test_preds, beta=2, average='binary')\n",
    "\n",
    "print(\"Intrinsic sensitivity classification results:\")\n",
    "print(f\"Precision: {precision:.2f}, Recall: {recall:.2f}, F1: {f1:.2f}, F2: {f2:.2f}, Accuracy: {accuracy:.2f}\")"
   ]
  },
  {
   "cell_type": "markdown",
   "id": "65452189-af42-41f3-8aa7-9863270e4e1f",
   "metadata": {},
   "source": [
    "# DistilBERT"
   ]
  },
  {
   "cell_type": "code",
   "execution_count": 52,
   "id": "9c89226b-ac0e-4422-b117-deb95c475155",
   "metadata": {},
   "outputs": [],
   "source": [
    "# Heavily shorten the training data for now, otherwise model training takes forever\n",
    "train_data = train_data.select(range(500))  "
   ]
  },
  {
   "cell_type": "code",
   "execution_count": 53,
   "id": "ee5da657-25f9-4647-bfc5-21808bc46fdc",
   "metadata": {},
   "outputs": [],
   "source": [
    "# Prepare datasets\n",
    "train_data = Dataset.from_dict({\"text\": train_texts, \"label\": train_labels})\n",
    "val_data = Dataset.from_dict({\"text\": val_texts, \"label\": val_labels})\n",
    "test_data = Dataset.from_dict({\"text\": test_texts, \"label\": test_labels})"
   ]
  },
  {
   "cell_type": "code",
   "execution_count": 54,
   "id": "e0ae2236-b97a-4d39-8ed9-21595e01af84",
   "metadata": {},
   "outputs": [
    {
     "name": "stderr",
     "output_type": "stream",
     "text": [
      "Some weights of DistilBertForSequenceClassification were not initialized from the model checkpoint at distilbert-base-uncased and are newly initialized: ['classifier.bias', 'classifier.weight', 'pre_classifier.bias', 'pre_classifier.weight']\n",
      "You should probably TRAIN this model on a down-stream task to be able to use it for predictions and inference.\n"
     ]
    },
    {
     "name": "stdout",
     "output_type": "stream",
     "text": [
      "DistilBERT is ready!\n"
     ]
    }
   ],
   "source": [
    "tokenizer = DistilBertTokenizer.from_pretrained(\"distilbert-base-uncased\")\n",
    "model = DistilBertForSequenceClassification.from_pretrained(\"distilbert-base-uncased\")\n",
    "print(\"DistilBERT is ready!\")"
   ]
  },
  {
   "cell_type": "markdown",
   "id": "4dd78683-b265-4154-871d-3791d361b085",
   "metadata": {},
   "source": [
    "**Note: the following cell typically takes a few minutes to run.**"
   ]
  },
  {
   "cell_type": "code",
   "execution_count": 44,
   "id": "8c46b266-a843-46f3-83cf-b8b7ac24f448",
   "metadata": {},
   "outputs": [
    {
     "data": {
      "application/vnd.jupyter.widget-view+json": {
       "model_id": "1a92cd7516eb452488c99cf9a8216c7d",
       "version_major": 2,
       "version_minor": 0
      },
      "text/plain": [
       "Map:   0%|          | 0/500 [00:00<?, ? examples/s]"
      ]
     },
     "metadata": {},
     "output_type": "display_data"
    },
    {
     "data": {
      "application/vnd.jupyter.widget-view+json": {
       "model_id": "91cefe17473d42ae8d4e29b978d34ca5",
       "version_major": 2,
       "version_minor": 0
      },
      "text/plain": [
       "Map:   0%|          | 0/52285 [00:00<?, ? examples/s]"
      ]
     },
     "metadata": {},
     "output_type": "display_data"
    },
    {
     "data": {
      "application/vnd.jupyter.widget-view+json": {
       "model_id": "295e3ef0678c44b4a4a646b13959ca25",
       "version_major": 2,
       "version_minor": 0
      },
      "text/plain": [
       "Map:   0%|          | 0/52285 [00:00<?, ? examples/s]"
      ]
     },
     "metadata": {},
     "output_type": "display_data"
    }
   ],
   "source": [
    "# Tokenize data\n",
    "\n",
    "def tokenize_function(example):\n",
    "    return tokenizer(example[\"text\"], padding=\"max_length\", truncation=True, max_length=512)\n",
    "\n",
    "train_data = train_data.map(tokenize_function, batched=True)\n",
    "val_data = val_data.map(tokenize_function, batched=True)\n",
    "test_data = test_data.map(tokenize_function, batched=True)"
   ]
  },
  {
   "cell_type": "code",
   "execution_count": null,
   "id": "9b19ea3a-1678-4dfc-9aa9-839e4c68703b",
   "metadata": {},
   "outputs": [],
   "source": [
    "# Set data format for PyTorch\n",
    "train_data.set_format(type=\"torch\", columns=[\"input_ids\", \"attention_mask\", \"label\"])\n",
    "val_data.set_format(type=\"torch\", columns=[\"input_ids\", \"attention_mask\", \"label\"])\n",
    "test_data.set_format(type=\"torch\", columns=[\"input_ids\", \"attention_mask\", \"label\"])"
   ]
  },
  {
   "cell_type": "code",
   "execution_count": null,
   "id": "a2b89198-af91-4dca-8c37-70c25d2ca083",
   "metadata": {},
   "outputs": [],
   "source": [
    "model = DistilBertForSequenceClassification.from_pretrained(\"distilbert-base-uncased\", num_labels=2)"
   ]
  },
  {
   "cell_type": "code",
   "execution_count": null,
   "id": "bda3f745-6346-4157-b7d5-42288dd6d18e",
   "metadata": {},
   "outputs": [],
   "source": [
    "training_args = TrainingArguments(\n",
    "    output_dir=\"./results\",\n",
    "    evaluation_strategy=\"epoch\",\n",
    "    learning_rate=2e-5,\n",
    "    per_device_train_batch_size=16,\n",
    "    per_device_eval_batch_size=16,\n",
    "    num_train_epochs=3,\n",
    "    weight_decay=0.01,\n",
    "    save_strategy=\"epoch\",\n",
    "    logging_dir=\"./logs\",\n",
    "    logging_steps=10,\n",
    "    load_best_model_at_end=True\n",
    ")"
   ]
  },
  {
   "cell_type": "code",
   "execution_count": null,
   "id": "28df8ca4-ba07-4350-ba7a-e36823d36e6f",
   "metadata": {},
   "outputs": [],
   "source": [
    "trainer = Trainer(\n",
    "    model=model,\n",
    "    args=training_args,\n",
    "    train_dataset=train_data,\n",
    "    eval_dataset=val_data\n",
    ")"
   ]
  },
  {
   "cell_type": "code",
   "execution_count": null,
   "id": "0eb97026-3e70-4fa4-a73b-6effdde4eea7",
   "metadata": {},
   "outputs": [],
   "source": [
    "trainer.train()"
   ]
  },
  {
   "cell_type": "code",
   "execution_count": null,
   "id": "c0ca8fc1-df28-484e-b43f-ca281c4a913b",
   "metadata": {},
   "outputs": [],
   "source": [
    "results = trainer.evaluate(test_data)\n",
    "print(results)"
   ]
  },
  {
   "cell_type": "markdown",
   "id": "b8ef5223-8727-4574-9834-9ba3054273c5",
   "metadata": {},
   "source": [
    "# Combined"
   ]
  },
  {
   "cell_type": "code",
   "execution_count": null,
   "id": "dd501640-8ff0-4a9e-89ed-cf2d379b4aaa",
   "metadata": {},
   "outputs": [],
   "source": []
  },
  {
   "cell_type": "code",
   "execution_count": null,
   "id": "68f3d251-b50f-4924-9716-baefa11c0c07",
   "metadata": {},
   "outputs": [],
   "source": []
  },
  {
   "cell_type": "code",
   "execution_count": null,
   "id": "401259b7-9f2c-4e75-9889-8eee2013d9a2",
   "metadata": {},
   "outputs": [],
   "source": []
  },
  {
   "cell_type": "markdown",
   "id": "957c0323-0604-4698-bf57-a0b5c8af74e0",
   "metadata": {},
   "source": [
    "# Extrinsic Evaluation"
   ]
  },
  {
   "cell_type": "code",
   "execution_count": null,
   "id": "8da9d733-be20-4598-bb9c-198c6547bd7a",
   "metadata": {},
   "outputs": [],
   "source": []
  }
 ],
 "metadata": {
  "kernelspec": {
   "display_name": "jupyter edds",
   "language": "python",
   "name": "myenv"
  },
  "language_info": {
   "codemirror_mode": {
    "name": "ipython",
    "version": 3
   },
   "file_extension": ".py",
   "mimetype": "text/x-python",
   "name": "python",
   "nbconvert_exporter": "python",
   "pygments_lexer": "ipython3",
   "version": "3.12.1"
  }
 },
 "nbformat": 4,
 "nbformat_minor": 5
}
